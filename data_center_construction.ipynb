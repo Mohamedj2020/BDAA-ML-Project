{
 "cells": [
  {
   "cell_type": "markdown",
   "id": "eb7bb988",
   "metadata": {},
   "source": [
    "# 🏗️ Data Center Construction Analysis\n",
    "This notebook explores the full process of constructing a data center, answering two key questions:\n",
    "\n",
    "1. **What are the stages of constructing a data center?**\n",
    "2. **How long does each stage take?**\n",
    "\n",
    "Visualizations are created using Plotly and apply the PACCH visual design principles: **Position, Alignment, Color, Consistency, and Hierarchy.**"
   ]
  },
  {
   "cell_type": "markdown",
   "id": "e40b2b2f",
   "metadata": {},
   "source": [
    "## 📊 Timeline of Data Center Construction"
   ]
  },
  {
   "cell_type": "markdown",
   "id": "0a076df2",
   "metadata": {},
   "source": [
    "![Timeline](data_center_timeline.png)"
   ]
  },
  {
   "cell_type": "markdown",
   "id": "b548fb08",
   "metadata": {},
   "source": [
    "### 📌 Insight\n",
    "- The construction process takes approximately **18 months**.\n",
    "- The **Structural Construction** phase is the longest (5 months).\n",
    "- Stages are color-coded and aligned consistently to highlight progression over time."
   ]
  },
  {
   "cell_type": "markdown",
   "id": "c2d65d98",
   "metadata": {},
   "source": [
    "## 💰 Cost Breakdown of Construction of a Data Center"
   ]
  },
  {
   "cell_type": "markdown",
   "id": "b0a2eeab",
   "metadata": {},
   "source": [
    "![Cost](data_center_cost_breakdown.png)"
   ]
  },
  {
   "cell_type": "markdown",
   "id": "3c4f1375",
   "metadata": {},
   "source": [
    "### 📌 Insight\n",
    "- The largest share of cost goes to **Construction (40%)**, followed by **Electrical & HVAC (25%)**.\n",
    "- Visualization applies color and hierarchy to make each component clear."
   ]
  },
  {
   "cell_type": "markdown",
   "id": "4b1c195a",
   "metadata": {},
   "source": [
    "## ✅ Summary\n",
    "This notebook visualizes the construction process of a data center using real-world-inspired durations and costs. By applying the PACCH principles, the graphics communicate the sequence and scale of each stage.\n",
    "\n",
    "**Takeaways:**\n",
    "- Total build time: ~18 months\n",
    "- Longest stage: Structural Construction\n",
    "- Most expensive: Physical build and electrical systems\n",
    "\n",
    "These visuals help stakeholders plan, allocate resources, and understand key phases of infrastructure deployment."
   ]
  }
 ],
 "metadata": {
  "kernelspec": {
   "display_name": "Python (venv)",
   "language": "python",
   "name": "venv"
  },
  "language_info": {
   "codemirror_mode": {
    "name": "ipython",
    "version": 3
   },
   "file_extension": ".py",
   "mimetype": "text/x-python",
   "name": "python",
   "nbconvert_exporter": "python",
   "pygments_lexer": "ipython3",
   "version": "3.13.2"
  }
 },
 "nbformat": 4,
 "nbformat_minor": 5
}
